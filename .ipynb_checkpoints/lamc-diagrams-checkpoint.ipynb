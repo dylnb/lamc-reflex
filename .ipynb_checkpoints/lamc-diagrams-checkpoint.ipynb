{
 "cells": [
  {
   "cell_type": "code",
   "execution_count": null,
   "metadata": {
    "collapsed": false
   },
   "outputs": [],
   "source": [
    "{-# LANGUAGE FlexibleContexts #-}\n",
    "{-# LANGUAGE FlexibleInstances #-}\n",
    "{-# LANGUAGE OverloadedStrings #-}\n",
    "{-# LANGUAGE TypeSynonymInstances #-}\n",
    ":extension NoMonomorphismRestriction\n",
    ":extension GADTs\n",
    "\n",
    "import Syntax\n",
    "import Infer\n",
    "import Parser\n",
    "import Pretty\n",
    "import Eval\n",
    "import qualified Env\n",
    "import DbExp hiding (Lam)\n",
    "\n",
    "import Data.Monoid\n",
    "import qualified Data.Map as Map\n",
    "import qualified Data.Text.Lazy as L\n",
    "import qualified Data.Text.Lazy.IO as L\n",
    "\n",
    "import Control.Monad.Identity\n",
    "import Control.Monad.State.Strict\n",
    "import Control.Monad.Writer\n",
    "import Control.Comonad (extend)\n",
    "\n",
    "import Data.Tree\n",
    "import Text.PrettyPrint\n",
    "\n",
    "import qualified Diagrams.Prelude as D\n",
    "import Diagrams.Prelude hiding (render)\n",
    "import Diagrams.TwoD.Layout.Tree"
   ]
  },
  {
   "cell_type": "code",
   "execution_count": null,
   "metadata": {
    "collapsed": false
   },
   "outputs": [],
   "source": [
    "gimme ex = cf2tree $ extend (nf . cf2db) ex\n",
    "  where\n",
    "    cf2db cf =\n",
    "      case unwrap cf of\n",
    "        Lit (LInt n) -> L (LI n)\n",
    "        Lit (LBool b) -> L (LB b)\n",
    "        Var x -> V x\n",
    "        App m n -> cf2db m :@ cf2db n\n",
    "        Lam x body -> x ! cf2db body\n",
    "\n",
    "    cf2tree expr =\n",
    "      case unwrap expr of\n",
    "        App fun arg -> BNode (render . ppr 0 $ extract expr) (cf2tree fun) (cf2tree arg)\n",
    "        Lam v body  -> BNode (render . ppr 0 $ extract expr) (leaf (\"\\\\\" ++ v)) (cf2tree body)\n",
    "        Lit w       -> leaf $ render (ppr 0 w) ++ \": \" ++ render (ppr 0 $ extract expr)\n",
    "        Var v       -> leaf $ v ++ \": \" ++ render (ppr 0 $ extract expr)"
   ]
  },
  {
   "cell_type": "code",
   "execution_count": null,
   "metadata": {
    "collapsed": false
   },
   "outputs": [],
   "source": [
    "comp = lam \"f\" (lam \"g\" (lam \"x\" (app (var \"f\") (app (var \"g\") (var \"x\")))))\n",
    "k3 = lam \"k\" (lit $ LInt 3)\n",
    "ident = lam \"x\" (var \"x\")\n",
    "ex2 = app (app (app comp k3) ident) (lit $ LInt 7)\n",
    "ex3 = app (lam \"f\" (app (var \"f\") (var \"f\"))) (lam \"x\" (var \"x\"))\n",
    "ex4 = app (var \"x\") (var \"x\")"
   ]
  },
  {
   "cell_type": "code",
   "execution_count": null,
   "metadata": {
    "collapsed": false
   },
   "outputs": [],
   "source": [
    "-- testTerm = fmap Just $ either (leaf . show) gimme $ parseExpr (L.pack \"(\\\\x. x) y\")\n",
    "testTerm = Just <$> gimme ex2"
   ]
  },
  {
   "cell_type": "code",
   "execution_count": null,
   "metadata": {
    "collapsed": false
   },
   "outputs": [],
   "source": [
    "Just sentTree = uniqueXLayout 2 2 testTerm"
   ]
  },
  {
   "cell_type": "code",
   "execution_count": null,
   "metadata": {
    "collapsed": false
   },
   "outputs": [],
   "source": [
    "diagram $ pad 1.1 . centerXY\n",
    "        $ renderTree'\n",
    "            (maybe mempty $ (lw none (rect 3 1.5) D.<>) . fontSizeL 0.6 . font \"freeserif\" . D.text)\n",
    "            (\\(a,p1) (b,p2) ->\n",
    "              maybe p1 (const $ p1 # translate (0 ^& (-0.5))) a\n",
    "              ~~\n",
    "              maybe p2 (const $ p2 # translate (0 ^& 0.5)) b)\n",
    "            sentTree"
   ]
  }
 ],
 "metadata": {
  "kernelspec": {
   "display_name": "Haskell",
   "language": "haskell",
   "name": "haskell"
  },
  "language_info": {
   "codemirror_mode": "ihaskell",
   "file_extension": ".hs",
   "name": "haskell",
   "version": "7.10.3"
  }
 },
 "nbformat": 4,
 "nbformat_minor": 1
}
